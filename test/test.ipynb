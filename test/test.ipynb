{
 "cells": [
  {
   "cell_type": "code",
   "execution_count": 1,
   "metadata": {},
   "outputs": [],
   "source": [
    "from visualize_sentence_diff import visualize_sentence_diff"
   ]
  },
  {
   "cell_type": "code",
   "execution_count": 2,
   "metadata": {},
   "outputs": [
    {
     "data": {
      "text/html": [
       "\n",
       "        <table>\n",
       "            <tr>\n",
       "                <td>sentence x</td>\n",
       "                <td>sentence_y</td>\n",
       "            </tr>\n",
       "    \n",
       "                <tr>\n",
       "                    <td>I have a pen</td>\n",
       "                    <td>I <span style=\"background-color:rgba(0,255,0,0.5)\">do</span> <span style=\"background-color:rgba(0,255,0,0.5)\">not</span> have a pen</td>\n",
       "                </tr>\n",
       "        \n",
       "        </table>\n",
       "    "
      ],
      "text/plain": [
       "<IPython.core.display.HTML object>"
      ]
     },
     "metadata": {},
     "output_type": "display_data"
    }
   ],
   "source": [
    "visualize_sentence_diff(\"I have a pen\", \"I do not have a pen\")"
   ]
  },
  {
   "cell_type": "code",
   "execution_count": 3,
   "metadata": {},
   "outputs": [],
   "source": [
    "sentence_list1 = [\"hello\", \"hi how are you\"]\n",
    "sentence_list2 = [\"hello, how are you?\", \"what's up?\"]"
   ]
  },
  {
   "cell_type": "code",
   "execution_count": 4,
   "metadata": {},
   "outputs": [
    {
     "data": {
      "text/html": [
       "\n",
       "        <table>\n",
       "            <tr>\n",
       "                <td>x</td>\n",
       "                <td>y</td>\n",
       "            </tr>\n",
       "    \n",
       "                <tr>\n",
       "                    <td>hello</td>\n",
       "                    <td>hello <span style=\"background-color:rgba(0,255,0,0.5)\">,</span> <span style=\"background-color:rgba(0,255,0,0.5)\">how</span> <span style=\"background-color:rgba(0,255,0,0.5)\">are</span> <span style=\"background-color:rgba(0,255,0,0.5)\">you</span> <span style=\"background-color:rgba(0,255,0,0.5)\">?</span></td>\n",
       "                </tr>\n",
       "        \n",
       "                <tr>\n",
       "                    <td><span style=\"background-color:rgba(255,0,0,0.5)\">hi</span> <span style=\"background-color:rgba(255,0,0,0.5)\">how</span> <span style=\"background-color:rgba(255,0,0,0.5)\">are</span> <span style=\"background-color:rgba(255,0,0,0.5)\">you</span></td>\n",
       "                    <td><span style=\"background-color:rgba(0,255,0,0.5)\">what</span> <span style=\"background-color:rgba(0,255,0,0.5)\">'s</span> <span style=\"background-color:rgba(0,255,0,0.5)\">up</span> <span style=\"background-color:rgba(0,255,0,0.5)\">?</span></td>\n",
       "                </tr>\n",
       "        \n",
       "        </table>\n",
       "    "
      ],
      "text/plain": [
       "<IPython.core.display.HTML object>"
      ]
     },
     "metadata": {},
     "output_type": "display_data"
    }
   ],
   "source": [
    "visualize_sentence_diff(sentence_list1, sentence_list2, x_name=\"x\", y_name=\"y\")"
   ]
  },
  {
   "cell_type": "code",
   "execution_count": null,
   "metadata": {},
   "outputs": [],
   "source": []
  }
 ],
 "metadata": {
  "kernelspec": {
   "display_name": "Python 3",
   "language": "python",
   "name": "python3"
  },
  "language_info": {
   "codemirror_mode": {
    "name": "ipython",
    "version": 3
   },
   "file_extension": ".py",
   "mimetype": "text/x-python",
   "name": "python",
   "nbconvert_exporter": "python",
   "pygments_lexer": "ipython3",
   "version": "3.8.3"
  }
 },
 "nbformat": 4,
 "nbformat_minor": 4
}
